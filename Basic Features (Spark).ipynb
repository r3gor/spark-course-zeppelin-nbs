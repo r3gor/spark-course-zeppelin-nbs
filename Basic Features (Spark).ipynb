{
 "cells": [
  {
   "cell_type": "markdown",
   "metadata": {},
   "source": [
    "## Welcome to Zeppelin.\n",
    "##### This is a live tutorial, you can run the code yourself. (Shift-Enter to Run)"
   ]
  },
  {
   "cell_type": "code",
   "execution_count": 1,
   "metadata": {
    "autoscroll": "auto"
   },
   "outputs": [],
   "source": [
    "import org.apache.commons.io.IOUtils\n",
    "import java.net.URL\n",
    "import java.nio.charset.Charset\n",
    "\n",
    "// Zeppelin creates and injects sc (SparkContext) and sqlContext (HiveContext or SqlContext)\n",
    "// So you don't need create them manually\n",
    "\n",
    "// load bank data\n",
    "val bankText = sc.parallelize(\n",
    "    IOUtils.toString(\n",
    "        new URL(\"https://s3.amazonaws.com/apache-zeppelin/tutorial/bank/bank.csv\"),\n",
    "        Charset.forName(\"utf8\")).split(\"\\n\"))\n",
    "\n",
    "case class Bank(age: Integer, job: String, marital: String, education: String, balance: Integer)\n",
    "\n",
    "val bank = bankText.map(s => s.split(\";\")).filter(s => s(0) != \"\\\"age\\\"\").map(\n",
    "    s => Bank(s(0).toInt, \n",
    "            s(1).replaceAll(\"\\\"\", \"\"),\n",
    "            s(2).replaceAll(\"\\\"\", \"\"),\n",
    "            s(3).replaceAll(\"\\\"\", \"\"),\n",
    "            s(5).replaceAll(\"\\\"\", \"\").toInt\n",
    "        )\n",
    ").toDF()\n",
    "bank.registerTempTable(\"bank\")"
   ]
  },
  {
   "cell_type": "code",
   "execution_count": 2,
   "metadata": {},
   "outputs": [],
   "source": [
    "%%sql \n",
    "select age, count(1) value\n",
    "from bank \n",
    "where age < 30 \n",
    "group by age \n",
    "order by age"
   ]
  },
  {
   "cell_type": "code",
   "execution_count": 3,
   "metadata": {},
   "outputs": [],
   "source": [
    "%%sql \n",
    "select age, count(1) value \n",
    "from bank \n",
    "where age < ${maxAge=30} \n",
    "group by age \n",
    "order by age"
   ]
  },
  {
   "cell_type": "code",
   "execution_count": 4,
   "metadata": {},
   "outputs": [],
   "source": [
    "%%sql \n",
    "select age, count(1) value \n",
    "from bank \n",
    "where marital=\"${marital=single,single|divorced|married}\" \n",
    "group by age \n",
    "order by age"
   ]
  },
  {
   "cell_type": "markdown",
   "metadata": {},
   "source": [
    "## Congratulations, it's done.\n",
    "##### You can create your own notebook in 'Notebook' menu. Good luck!"
   ]
  },
  {
   "cell_type": "markdown",
   "metadata": {},
   "source": [
    "About bank data\n",
    "\n",
    "```\n",
    "Citation Request:\n",
    "  This dataset is public available for research. The details are described in [Moro et al., 2011]. \n",
    "  Please include this citation if you plan to use this database:\n",
    "\n",
    "  [Moro et al., 2011] S. Moro, R. Laureano and P. Cortez. Using Data Mining for Bank Direct Marketing: An Application of the CRISP-DM Methodology. \n",
    "  In P. Novais et al. (Eds.), Proceedings of the European Simulation and Modelling Conference - ESM'2011, pp. 117-121, Guimarães, Portugal, October, 2011. EUROSIS.\n",
    "\n",
    "  Available at: [pdf] http://hdl.handle.net/1822/14838\n",
    "                [bib] http://www3.dsi.uminho.pt/pcortez/bib/2011-esm-1.txt\n",
    "```"
   ]
  }
 ],
 "metadata": {
  "kernelspec": {
   "display_name": "Spark 2.0.0",
   "language": "python",
   "name": "spark2"
  },
  "language_info": {
   "codemirror_mode": "text/python",
   "file_extension": ".py",
   "mimetype": "text/python",
   "name": "scala",
   "pygments_lexer": "python",
   "version": "3.6"
  }
 },
 "nbformat": 4,
 "nbformat_minor": 2
}
