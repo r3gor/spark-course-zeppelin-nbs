{
 "cells": [
  {
   "cell_type": "markdown",
   "metadata": {},
   "source": [
    "### RDD: Resilient Distributed Datasets\n",
    "\n",
    "-   Colección inmutable y distribuida de elementos que pueden manipularse en paralelo\n",
    "\n",
    "-   Un programa Spark opera sobre RDDs:\n",
    "\n",
    "    -   Creación de RDDs\n",
    "\n",
    "    -   Transformación de RDDs (map, filter, etc.)\n",
    "\n",
    "    -   Realización de acciones sobre RDDs para obtener resultados\n",
    "\n",
    "-   Spark automáticamente distribuye los datos y paraleliza las operaciones"
   ]
  },
  {
   "cell_type": "markdown",
   "metadata": {},
   "source": [
    "#### Creación de RDDs\n",
    "\n",
    "Dos formas:\n",
    "\n",
    "-   Paralelizando una colección en el programa driver"
   ]
  },
  {
   "cell_type": "code",
   "execution_count": 2,
   "metadata": {
    "autoscroll": "auto"
   },
   "outputs": [],
   "source": [
    "# Ejemplo en PySpark\n",
    "rdd1 = sc.parallelize([1,2,3])\n",
    "\n",
    "import numpy as np\n",
    "rdd2=sc.parallelize(np.array(range(100)))\n",
    "print(rdd2.glom().collect())"
   ]
  },
  {
   "cell_type": "code",
   "execution_count": 3,
   "metadata": {
    "autoscroll": "auto"
   },
   "outputs": [],
   "source": [
    "// Ejemplo en Scala\n",
    "val rdd3 = sc.parallelize(List(1, 2, 3))\n",
    "\n",
    "val rdd4 = sc.parallelize(1 to 100)\n",
    "\n",
    "val lista = rdd4.glom().collect()\n"
   ]
  },
  {
   "cell_type": "markdown",
   "metadata": {},
   "source": [
    "-   Leyendo datos de un fichero"
   ]
  },
  {
   "cell_type": "code",
   "execution_count": 5,
   "metadata": {
    "autoscroll": "auto"
   },
   "outputs": [],
   "source": [
    "# Ejemplo en PySpark (fichero ../datos/quijote.txt)\n",
    "quijote = sc.textFile(\"../datos/quijote.txt\")\n",
    "print(quijote.take(1000))"
   ]
  },
  {
   "cell_type": "code",
   "execution_count": 6,
   "metadata": {
    "autoscroll": "auto"
   },
   "outputs": [],
   "source": [
    "// Ejemplo en Scala (fichero ../datos/quijote.txt)\n",
    "val quijote = sc.textFile(\"../datos/quijote.txt\")\n",
    "quijote.take(1000).foreach(println)"
   ]
  },
  {
   "cell_type": "markdown",
   "metadata": {},
   "source": [
    "### Particiones\n",
    "\n",
    "Spark divide el RDD en en conjunto de particiones\n",
    "\n",
    "-   El número de particiones por defecto es función del tamaño del\n",
    "    cluster o del número de bloques del fichero (p.e. bloques HDFS)\n",
    "\n",
    "-   Se puede especificar otro valor en el momento de crear el RDD"
   ]
  },
  {
   "cell_type": "code",
   "execution_count": 8,
   "metadata": {
    "autoscroll": "auto"
   },
   "outputs": [],
   "source": [
    "rdd = sc.parallelize([1,2,3,4], 2)\n",
    "print(rdd.glom().collect())\n",
    "print(rdd.getNumPartitions())"
   ]
  },
  {
   "cell_type": "code",
   "execution_count": 9,
   "metadata": {
    "autoscroll": "auto"
   },
   "outputs": [],
   "source": [
    "val rdd = sc.parallelize(List(1,2,3,4), 2)\n",
    "println(rdd.partitions.size)\n",
    "val parti = rdd.glom().collect()"
   ]
  },
  {
   "cell_type": "markdown",
   "metadata": {},
   "source": [
    "### Transformaciones\n",
    "\n",
    "Operaciones sobre RDDs que devuelven un nuevo RDD\n",
    "\n",
    "-   Se computan de forma “perezosa” ( *lazy* )\n",
    "\n",
    "-   Normalmente, ejecutan una función (anónima o no) sobre cada uno de\n",
    "    los elementos del RDD de origen"
   ]
  },
  {
   "cell_type": "code",
   "execution_count": 11,
   "metadata": {
    "autoscroll": "auto"
   },
   "outputs": [],
   "source": [
    "quijs = quijote.filter(lambda l: \"Quijote\" in l)\n",
    "sanchs = quijote.filter(lambda l: \"Sancho\" in l)\n",
    "quijssancs = quijs.intersection(sanchs)\n",
    "quijssancs.cache()"
   ]
  },
  {
   "cell_type": "code",
   "execution_count": 12,
   "metadata": {
    "autoscroll": "auto"
   },
   "outputs": [],
   "source": [
    "val quijs = quijote.filter(l => l contains \"Quijote\")\n",
    "val sanchs = quijote.filter(l => l contains \"Sancho\")\n",
    "val quijssancs = quijs.intersection(sanchs)"
   ]
  },
  {
   "cell_type": "markdown",
   "metadata": {},
   "source": [
    "### Acciones\n",
    "\n",
    "Obtienen datos de salida a partir de los RDDs\n",
    "\n",
    "-   Devuelven valores al driver o al sistema de almacenamiento\n",
    "\n",
    "-   Fuerzan a que se realicen las transformaciones pendientes"
   ]
  },
  {
   "cell_type": "code",
   "execution_count": 14,
   "metadata": {
    "autoscroll": "auto"
   },
   "outputs": [],
   "source": [
    "nqs = quijssancs.count()\n",
    "print(\"Líneas con Quijote y Sancho {0}\".format(nqs))\n",
    "for l in quijssancs.takeSample(False,10):\n",
    "    print(l)"
   ]
  },
  {
   "cell_type": "code",
   "execution_count": 15,
   "metadata": {
    "autoscroll": "auto"
   },
   "outputs": [],
   "source": [
    "val nqs = quijssancs.count()\n",
    "println(\"Líneas con Quijote y Sancho:\"+nqs)\n",
    "\n",
    "quijssancs.takeSample(false,10).foreach(println)\n",
    "quijssancs.collect().foreach(println)"
   ]
  }
 ],
 "metadata": {
  "kernelspec": {
   "display_name": "Spark 2.0.0",
   "language": "python",
   "name": "spark2"
  },
  "language_info": {
   "codemirror_mode": "text/python",
   "file_extension": ".py",
   "mimetype": "text/python",
   "name": "scala",
   "pygments_lexer": "python",
   "version": "3.6"
  }
 },
 "nbformat": 4,
 "nbformat_minor": 2
}
