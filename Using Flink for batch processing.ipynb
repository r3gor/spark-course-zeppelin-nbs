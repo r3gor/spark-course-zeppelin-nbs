{
 "cells": [
  {
   "cell_type": "markdown",
   "metadata": {},
   "source": [
    "### Intro\n",
    "This notebook is an example of how to use **Apache Flink** for processing simple data sets. We will take an open airline data set from [stat-computing.org](http://stat-computing.org) and find out who was the most popular carrier during 1998-2000 years. Next we will build a chart that shows flights distribution by months and look how it changes from year to year. We will use Zeppelin `%table` display system to build charts."
   ]
  },
  {
   "cell_type": "markdown",
   "metadata": {},
   "source": [
    "### Getting the data\n",
    "First we need to download and unpack the data. We will get three big data sets with flight details (one pack for each year) and a small one with carriers names. In total we will get for about 1,5 GB of data. To be able to process such amount of data it is recommended to increase `shell.command.timeout.millisecs` value in `%sh` interpreter settings up to several minutes. You can find interpreters configuration by clicking on `Interpreter` in a drop-down menu from the top right corner of the Zeppelin web-ui."
   ]
  },
  {
   "cell_type": "raw",
   "metadata": {
    "format": "text/plain"
   },
   "source": [
    "%sh\n",
    "\n",
    "rm /tmp/flights98.csv.bz2\n",
    "curl -o /tmp/flights98.csv.bz2 \"http://stat-computing.org/dataexpo/2009/1998.csv.bz2\"\n",
    "rm /tmp/flights98.csv\n",
    "bzip2 -d /tmp/flights98.csv.bz2\n",
    "chmod 666 /tmp/flights98.csv"
   ]
  },
  {
   "cell_type": "raw",
   "metadata": {
    "format": "text/plain"
   },
   "source": [
    "%sh\n",
    "\n",
    "rm /tmp/flights99.csv.bz2\n",
    "curl -o /tmp/flights99.csv.bz2 \"http://stat-computing.org/dataexpo/2009/1999.csv.bz2\"\n",
    "rm /tmp/flights99.csv\n",
    "bzip2 -d /tmp/flights99.csv.bz2\n",
    "chmod 666 /tmp/flights99.csv"
   ]
  },
  {
   "cell_type": "raw",
   "metadata": {
    "format": "text/plain"
   },
   "source": [
    "%sh\n",
    "\n",
    "rm /tmp/flights00.csv.bz2\n",
    "curl -o /tmp/flights00.csv.bz2 \"http://stat-computing.org/dataexpo/2009/2000.csv.bz2\"\n",
    "rm /tmp/flights00.csv\n",
    "bzip2 -d /tmp/flights00.csv.bz2\n",
    "chmod 666 /tmp/flights00.csv"
   ]
  },
  {
   "cell_type": "raw",
   "metadata": {
    "format": "text/plain"
   },
   "source": [
    "%sh\n",
    "\n",
    "rm /tmp/carriers.csv\n",
    "curl -o /tmp/carriers.csv \"http://stat-computing.org/dataexpo/2009/carriers.csv\"\n",
    "chmod 666 /tmp/carriers.csv"
   ]
  },
  {
   "cell_type": "markdown",
   "metadata": {},
   "source": [
    "### Preparing the data\n",
    "The `flights<YY>.csv` contains various data but we only need the information about the year, the month and the carrier who served the flight. Let's retrieve this information and create `DataSets`."
   ]
  },
  {
   "cell_type": "raw",
   "metadata": {
    "format": "text/plain"
   },
   "source": [
    "%flink\n",
    "\n",
    "case class Flight(year: Int, month: Int, carrierCode: String)\n",
    "case class Carrier(code: String, name: String)\n",
    "\n",
    "val flights98 = benv.readCsvFile[Flight](\"/tmp/flights98.csv\", ignoreFirstLine = true, includedFields = Array(0, 1, 8))\n",
    "val flights99 = benv.readCsvFile[Flight](\"/tmp/flights99.csv\", ignoreFirstLine = true, includedFields = Array(0, 1, 8))\n",
    "val flights00 = benv.readCsvFile[Flight](\"/tmp/flights00.csv\", ignoreFirstLine = true, includedFields = Array(0, 1, 8))\n",
    "val flights = flights98.union(flights99).union(flights00)\n",
    "val carriers = benv.readCsvFile[Carrier](\"/tmp/carriers.csv\", ignoreFirstLine = true, quoteCharacter = '\"')"
   ]
  },
  {
   "cell_type": "markdown",
   "metadata": {},
   "source": [
    "### Choosing the carrier\n",
    "Now we will search for the most popular carrier during the whole time period."
   ]
  },
  {
   "cell_type": "raw",
   "metadata": {
    "format": "text/plain"
   },
   "source": [
    "%flink\n",
    "\n",
    "import org.apache.flink.api.common.operators.Order\n",
    "import org.apache.flink.api.java.aggregation.Aggregations\n",
    "\n",
    "case class CarrierFlightsCount(carrierCode: String, count: Int)\n",
    "case class CountByMonth(month: Int, count: Int)\n",
    "\n",
    "val carriersFlights = flights\n",
    "  .map(f => CarrierFlightsCount(f.carrierCode, 1))\n",
    "  .groupBy(\"carrierCode\")\n",
    "  .sum(\"count\")\n",
    "\n",
    "val maxFlights = carriersFlights\n",
    "  .aggregate(Aggregations.MAX, \"count\")\n",
    "\n",
    "val bestCarrier = carriersFlights\n",
    "  .join(maxFlights)\n",
    "  .where(\"count\")\n",
    "  .equalTo(\"count\")\n",
    "  .map(_._1)\n",
    "  \n",
    "val carrierName = bestCarrier\n",
    "  .join(carriers)\n",
    "  .where(\"carrierCode\")\n",
    "  .equalTo(\"code\")\n",
    "  .map(_._2.name)\n",
    "  .collect\n",
    "  .head"
   ]
  },
  {
   "cell_type": "raw",
   "metadata": {
    "format": "text/plain"
   },
   "source": [
    "%flink\n",
    "\n",
    "println(s\"\"\"The most popular carrier is:\n",
    "$carrierName\n",
    "\"\"\")"
   ]
  },
  {
   "cell_type": "markdown",
   "metadata": {},
   "source": [
    "### Calculating flights\n",
    "The last step is to filter **Delta Air Lines** flights and group them by months."
   ]
  },
  {
   "cell_type": "raw",
   "metadata": {
    "format": "text/plain"
   },
   "source": [
    "%flink\n",
    "\n",
    "def countFlightsPerMonth(flights: DataSet[Flight],\n",
    "                         carrier: DataSet[CarrierFlightsCount]) = {\n",
    "  val carrierFlights = flights\n",
    "    .join(carrier)\n",
    "    .where(\"carrierCode\")\n",
    "    .equalTo(\"carrierCode\")\n",
    "    .map(_._1)\n",
    "    \n",
    "  carrierFlights\n",
    "    .map(flight => CountByMonth(flight.month, 1))\n",
    "    .groupBy(\"month\")\n",
    "    .sum(\"count\")\n",
    "    .sortPartition(\"month\", Order.ASCENDING)\n",
    "}\n",
    "\n",
    "val bestCarrierFlights_98 = countFlightsPerMonth(flights98, bestCarrier)\n",
    "val bestCarrierFlights_99 = countFlightsPerMonth(flights99, bestCarrier)\n",
    "val bestCarrierFlights_00 = countFlightsPerMonth(flights00, bestCarrier)"
   ]
  },
  {
   "cell_type": "raw",
   "metadata": {
    "format": "text/plain"
   },
   "source": [
    "%flink\n",
    "\n",
    "def monthAsString(month: Int): String = {\n",
    "  month match {\n",
    "    case 1 => \"Jan\"\n",
    "    case 2 => \"Feb\"\n",
    "    case 3 => \"Mar\"\n",
    "    case 4 => \"Apr\"\n",
    "    case 5 => \"May\"\n",
    "    case 6 => \"Jun\"\n",
    "    case 7 => \"Jul\"\n",
    "    case 8 => \"Aug\"\n",
    "    case 9 => \"Sept\"\n",
    "    case 10 => \"Oct\"\n",
    "    case 11 => \"Nov\"\n",
    "    case 12 => \"Dec\"\n",
    "  }\n",
    "}\n",
    "\n",
    "// We should put all the results into a common DataFrame\n",
    "// to show them in a common picture\n",
    "val bestCarrierFlights = bestCarrierFlights_98\n",
    "  .join(bestCarrierFlights_99)\n",
    "  .where(\"month\")\n",
    "  .equalTo(\"month\")\n",
    "  .map(tuple => (tuple._1.month, tuple._1.count, tuple._2.count))\n",
    "  .join(bestCarrierFlights_00)\n",
    "  .where(0)\n",
    "  .equalTo(\"month\")\n",
    "  .map(tuple => (tuple._1._1, tuple._1._2, tuple._1._3, tuple._2.count))\n",
    "  .collect\n",
    "  \n",
    "var flightsByMonthTable = s\"Month\\t1998\\t1999\\t2000\\n\"\n",
    "bestCarrierFlights.foreach(data => flightsByMonthTable += s\"${monthAsString(data._1)}\\t${data._2}\\t${data._3}\\t${data._4}\\n\")"
   ]
  },
  {
   "cell_type": "raw",
   "metadata": {
    "format": "text/plain"
   },
   "source": [
    "%flink\n",
    "\n",
    "println(s\"\"\"%table\n",
    "$flightsByMonthTable\n",
    "\"\"\")"
   ]
  },
  {
   "cell_type": "markdown",
   "metadata": {},
   "source": [
    "### Results\n",
    "Looking at this chart we can say that February is the most unpopular month, but this is only because it has less days (28 or 29) than the other months (30 or 31). To receive more fair picture we should calculate the average flights count per day for each month."
   ]
  },
  {
   "cell_type": "raw",
   "metadata": {
    "format": "text/plain"
   },
   "source": [
    "%flink\n",
    "\n",
    "def daysInMonth(month: Int, year: Int): Int = {\n",
    "  month match {\n",
    "    case 1 => 31\n",
    "    case 2 => if (year % 4 == 0) {\n",
    "        29\n",
    "    } else {\n",
    "        28\n",
    "    }\n",
    "    case 3 => 31\n",
    "    case 4 => 30\n",
    "    case 5 => 31\n",
    "    case 6 => 30\n",
    "    case 7 => 31\n",
    "    case 8 => 31\n",
    "    case 9 => 30\n",
    "    case 10 => 31\n",
    "    case 11 => 30\n",
    "    case 12 => 31\n",
    "  }\n",
    "}\n",
    "\n",
    "\n",
    "var flightsByDayTable = s\"Month\\t1998\\t1999\\t2000\\n\"\n",
    "\n",
    "bestCarrierFlights.foreach(data => flightsByDayTable += s\"${monthAsString(data._1)}\\t${data._2/daysInMonth(data._1,1998)}\\t${data._3/daysInMonth(data._1,1999)}\\t${data._4/daysInMonth(data._1,2000)}\\n\")"
   ]
  },
  {
   "cell_type": "raw",
   "metadata": {
    "format": "text/plain"
   },
   "source": [
    "%flink\n",
    "\n",
    "println(s\"\"\"%table\n",
    "$flightsByDayTable\n",
    "\"\"\")"
   ]
  },
  {
   "cell_type": "raw",
   "metadata": {
    "format": "text/plain"
   },
   "source": [
    "%flink\n"
   ]
  }
 ],
 "metadata": {
  "kernelspec": {
   "display_name": "Spark 2.0.0",
   "language": "python",
   "name": "spark2"
  },
  "language_info": {
   "codemirror_mode": "text/python",
   "file_extension": ".py",
   "mimetype": "text/python",
   "name": "scala",
   "pygments_lexer": "python",
   "version": "3.6"
  }
 },
 "nbformat": 4,
 "nbformat_minor": 2
}
