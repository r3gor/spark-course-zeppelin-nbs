{
 "cells": [
  {
   "cell_type": "markdown",
   "metadata": {},
   "source": [
    "### [Apache Pig](http://pig.apache.org/) is a platform for analyzing large data sets that consists of a high-level language for expressing data analysis programs, coupled with infrastructure for evaluating these programs. The salient property of Pig programs is that their structure is amenable to substantial parallelization, which in turns enables them to handle very large data sets.\n",
    "\n",
    "Pig's language layer currently consists of a textual language called Pig Latin, which has the following key properties:\n",
    "\n",
    "* Ease of programming. It is trivial to achieve parallel execution of simple, \"embarrassingly parallel\" data analysis tasks. Complex tasks comprised of multiple interrelated data transformations are explicitly encoded as data flow sequences, making them easy to write, understand, and maintain.\n",
    "* Optimization opportunities. The way in which tasks are encoded permits the system to optimize their execution automatically, allowing the user to focus on semantics rather than efficiency.\n",
    "* Extensibility. Users can create their own functions to do special-purpose processing.\n"
   ]
  },
  {
   "cell_type": "markdown",
   "metadata": {},
   "source": [
    "This pig tutorial use pig to do the same thing as spark tutorial. The default mode is mapreduce, you can also use other modes like local/tez_local/tez. For mapreduce mode, you need to have hadoop installed and export `HADOOP_CONF_DIR` in `zeppelin-env.sh`\n",
    "\n",
    "The tutorial consists of 3 steps.\n",
    "\n",
    "* Use shell interpreter to download bank.csv and upload it to hdfs\n",
    "* use `%pig` to process the data\n",
    "* use `%pig.query` to query the data"
   ]
  },
  {
   "cell_type": "raw",
   "metadata": {
    "format": "text/plain"
   },
   "source": [
    "%sh\n",
    "\n",
    "wget https://s3.amazonaws.com/apache-zeppelin/tutorial/bank/bank.csv\n",
    "hadoop fs -put bank.csv .\n"
   ]
  },
  {
   "cell_type": "raw",
   "metadata": {
    "format": "text/plain"
   },
   "source": [
    "%pig\n",
    "\n",
    "bankText = load 'bank.csv' using PigStorage(';');\n",
    "bank = foreach bankText generate $0 as age, $1 as job, $2 as marital, $3 as education, $5 as balance; \n",
    "bank = filter bank by age != '\"age\"';\n",
    "bank = foreach bank generate (int)age, REPLACE(job,'\"','') as job, REPLACE(marital, '\"', '') as marital, (int)(REPLACE(balance, '\"', '')) as balance;\n",
    "\n",
    "-- The following statement is optional, it depends on whether your needs.\n",
    "-- store bank into 'clean_bank.csv' using PigStorage(';');\n",
    "\n",
    "\n"
   ]
  },
  {
   "cell_type": "code",
   "execution_count": 4,
   "metadata": {
    "autoscroll": "auto"
   },
   "outputs": [],
   "source": [
    "%pig.query\n",
    "\n",
    "bank_data = filter bank by age < 30;\n",
    "b = group bank_data by age;\n",
    "foreach b generate group, COUNT($1);\n",
    "\n"
   ]
  },
  {
   "cell_type": "code",
   "execution_count": 5,
   "metadata": {
    "autoscroll": "auto"
   },
   "outputs": [],
   "source": [
    "%pig.query\n",
    "\n",
    "bank_data = filter bank by age < ${maxAge=40};\n",
    "b = group bank_data by age;\n",
    "foreach b generate group, COUNT($1) as count;"
   ]
  },
  {
   "cell_type": "code",
   "execution_count": 6,
   "metadata": {
    "autoscroll": "auto"
   },
   "outputs": [],
   "source": [
    "%pig.query\n",
    "\n",
    "bank_data = filter bank by marital=='${marital=single,single|divorced|married}';\n",
    "b = group bank_data by age;\n",
    "foreach b generate group, COUNT($1) as count;\n",
    "\n",
    "\n"
   ]
  },
  {
   "cell_type": "raw",
   "metadata": {
    "format": "text/plain"
   },
   "source": [
    "%pig\n"
   ]
  }
 ],
 "metadata": {
  "kernelspec": {
   "display_name": "Spark 2.0.0",
   "language": "python",
   "name": "spark2"
  },
  "language_info": {
   "codemirror_mode": "text/python",
   "file_extension": ".py",
   "mimetype": "text/python",
   "name": "scala",
   "pygments_lexer": "python",
   "version": "3.6"
  }
 },
 "nbformat": 4,
 "nbformat_minor": 2
}
