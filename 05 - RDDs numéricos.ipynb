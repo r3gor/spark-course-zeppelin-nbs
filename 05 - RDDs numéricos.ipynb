{
 "cells": [
  {
   "cell_type": "markdown",
   "metadata": {},
   "source": [
    "RDDs numéricos\n",
    "--------------\n",
    "\n",
    "Funciones de estadística descriptiva implementadas en Spark\n",
    "\n",
    "  Método              |  Descripción                       \n",
    "  ------------------- | ---------------------------------- \n",
    "  stats()             | Resumen de estadísticas            \n",
    "  mean()              | Media aritmética\n",
    "  sum(), max(), min() | Suma, máximo y mínimo\n",
    "  variance()          | Varianza de los elementos\n",
    "  sampleVariance()    | Varianza de una muestra\n",
    "  stdev()             | Desviación estándar\n",
    "  sampleStdev()       | Desviación estándar de una muestra\n",
    "  histogram()         | Histograma"
   ]
  },
  {
   "cell_type": "code",
   "execution_count": 1,
   "metadata": {
    "autoscroll": "auto"
   },
   "outputs": [],
   "source": [
    "import numpy as np\n",
    "\n",
    "# Un RDD con datos aleatorios de una distribución normal\n",
    "nrdd = sc.parallelize(np.random.normal(size=10000)).cache()\n",
    "\n",
    "# Resumen de estadísticas\n",
    "sts = nrdd.stats()\n",
    "\n",
    "print(\"Resumen de estadísticas:\\n {0}\\n\".format(sts))"
   ]
  },
  {
   "cell_type": "code",
   "execution_count": 2,
   "metadata": {
    "autoscroll": "auto"
   },
   "outputs": [],
   "source": [
    "from math import fabs\n",
    "\n",
    "# Filtra outliers\n",
    "stddev = sts.stdev()\n",
    "avg = sts.mean()\n",
    "\n",
    "frdd = nrdd.filter(lambda x: fabs(x - avg) < 3*stddev).cache()\n",
    "\n",
    "print(\"Número de outliers: {0}\".format(sts.count() - frdd.count()))"
   ]
  },
  {
   "cell_type": "code",
   "execution_count": 3,
   "metadata": {
    "autoscroll": "auto"
   },
   "outputs": [],
   "source": [
    "#import base64\n",
    "import matplotlib.pyplot as plt; plt.rcdefaults()\n",
    "import matplotlib.pyplot as plt\n",
    "import StringIO\n",
    "\n",
    "def show(p):\n",
    "    img = StringIO.StringIO()\n",
    "    p.savefig(img, format='svg')\n",
    "    img.seek(0)\n",
    "    print \"%html <div style='width:600px'>\" + img.buf + \"</div>\"\n",
    "\n",
    "# Obtiene un histograma con 10 grupos\n",
    "x,y = frdd.histogram(10)\n",
    "\n",
    "# Limpia la gráfica\n",
    "plt.gcf().clear()\n",
    "\n",
    "plt.bar(x[:-1], y, width=0.6)\n",
    "plt.xlabel(u'Valores')\n",
    "plt.ylabel(u'Número de ocurrencias')\n",
    "plt.title(u'Histograma')\n",
    "\n",
    "show(plt)"
   ]
  },
  {
   "cell_type": "markdown",
   "metadata": {},
   "source": [
    "### TAREA: Número de patentes por año de un país\n",
    "\n",
    "A partir del fichero apat63_99.txt obtén y representa, por año de concesión (\"GYEAR\"), el número de patentes cuyo primer inventor es de EEUU (código \"US\" en \"COUNTRY\"), usando un gráfico de barras. Obtén también el número medio de patentes concedidas."
   ]
  },
  {
   "cell_type": "code",
   "execution_count": 5,
   "metadata": {
    "autoscroll": "auto"
   },
   "outputs": [],
   "source": [
    "import numpy as np\n",
    "import matplotlib.pyplot as plt; plt.rcdefaults()\n",
    "import matplotlib.pyplot as plt\n",
    "import StringIO\n",
    "\n",
    "def show(p):\n",
    "    img = StringIO.StringIO()\n",
    "    p.savefig(img, format='svg')\n",
    "    img.seek(0)\n",
    "    print \"%html <div style='width:1200px'>\" + img.buf + \"</div>\"\n",
    "    \n",
    "# Lee los datos como un rdd\n",
    "# rdd = ....\n",
    "\n",
    "\n",
    "\n",
    "# Obtiene un rdd que nos proporcione, para las patentes \"US\" el número de \n",
    "# patentes por año (año, número_de_patentes) ordenadas por año\n",
    "#yearNum = ....\n",
    "\n",
    "# Calcula la media del número de patentes\n",
    "#media = ....\n",
    "\n",
    "#print(\"Media de patentes entre el año {0} y el {1} = {2}\".format(....))\n",
    "\n",
    "\n",
    "# Crea el gráfico\n",
    "# Obtén los años como una lista\n",
    "#years = ....\n",
    "# Obtén el número de patentes como una lista\n",
    "#numPats = ....\n",
    "\n",
    "# Descomentar para gráfica\n",
    "#plt.gcf().clear() \n",
    "#yearsRange = np.arange(len(years))\n",
    "#plt.bar(yearsRange, numPats, align='center')\n",
    "#plt.xticks(yearsRange, years, fontsize=10, rotation=90)\n",
    "#plt.ylabel(\"N Patentes\")\n",
    "#show(plt)\n"
   ]
  },
  {
   "cell_type": "code",
   "execution_count": 6,
   "metadata": {
    "autoscroll": "auto"
   },
   "outputs": [],
   "source": []
  }
 ],
 "metadata": {
  "kernelspec": {
   "display_name": "Spark 2.0.0",
   "language": "python",
   "name": "spark2"
  },
  "language_info": {
   "codemirror_mode": "text/python",
   "file_extension": ".py",
   "mimetype": "text/python",
   "name": "scala",
   "pygments_lexer": "python",
   "version": "3.6"
  }
 },
 "nbformat": 4,
 "nbformat_minor": 2
}
