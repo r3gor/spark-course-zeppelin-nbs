{
 "cells": [
  {
   "cell_type": "markdown",
   "metadata": {},
   "source": [
    "## Spark ML: Machine Learning Library\n",
    "\n",
    "Librería de algoritmos paralelos de ML para datos masivos\n",
    "\n",
    "-   Algoritmos clásicos de machine learning: clasificación, regresión, clustering, filtrado colaborativo\n",
    "-   Otros algoritmos: extracción de características, transformación, reducción de dimensionalidad y selección\n",
    "-   Herramientas para construir, evaluar y ajustar pipelines de ML\n",
    "-   Otras utilidades: álgebra lineal, estadística, manejo de datos, etc.\n",
    "\n",
    "\n",
    "Dos paquetes:\n",
    "\n",
    "-   spark.mllib: API original, basada en RDDs\n",
    "-   spark.ml: API de alto nivel, basada en DataFrames\n",
    "\n",
    "Documentación:\n",
    "[spark.apache.org/docs/latest/mllib-guide.html](http://spark.apache.org/docs/latest/mllib-guide.html)\n",
    "y\n",
    "[spark.apache.org/docs/latest/ml-guide.html](http://spark.apache.org/docs/latest/ml-guide.html)"
   ]
  },
  {
   "cell_type": "markdown",
   "metadata": {},
   "source": [
    "#### Ejemplo\n",
    "\n",
    "Usa el algoritmo de clustering [KMeans](http://spark.apache.org/docs/latest/mllib-clustering.html#k-means) para agrupar datos de vectores dispersos en dos clusters.\n"
   ]
  },
  {
   "cell_type": "code",
   "execution_count": 2,
   "metadata": {
    "autoscroll": "auto"
   },
   "outputs": [],
   "source": [
    "from pyspark.mllib.clustering import KMeans, KMeansModel\n",
    "from pyspark.mllib.linalg import SparseVector\n",
    "import numpy as np\n",
    "\n",
    "# Define un array de 4 vectores dispersos, de 3 elementos cada uno\n",
    "sparse_data = [\n",
    "     SparseVector(3, {1: 1.2}),\n",
    "     SparseVector(3, {1: 1.1}),\n",
    "     SparseVector(3, {0: 0.9, 2: 1.0}),\n",
    "     SparseVector(3, {0: 1.0, 2: 1.1})\n",
    " ]\n",
    "\n",
    "for i in range(4):\n",
    "    print(sparse_data[i].toArray())\n"
   ]
  },
  {
   "cell_type": "code",
   "execution_count": 3,
   "metadata": {
    "autoscroll": "auto"
   },
   "outputs": [],
   "source": [
    "# Construye el modelo (agrupa los datos en 2 clusters)\n",
    "model = KMeans.train(sc.parallelize(sparse_data), \\\n",
    "                     2, initializationMode=\"k-means||\",\\\n",
    "                     seed=50, initializationSteps=5, \\\n",
    "                     epsilon=1e-4)\n",
    "\n",
    "print(\"Centros de los clusters: {0}\".format(model.clusterCenters))\n",
    "\n",
    "for i in range(4):\n",
    "    print(\"Cluster para el nodo {0} = {1}\"\n",
    "           .format(i, model.predict(sparse_data[i])))\n",
    "\n",
    "punto = SparseVector(3, {0: 0.9, 1:1.0, 2: 1.0})\n",
    "print(\"\\nCluster para el nodo {0} = {1}\".format(punto, model.predict(punto)))"
   ]
  },
  {
   "cell_type": "code",
   "execution_count": 4,
   "metadata": {
    "autoscroll": "auto"
   },
   "outputs": [],
   "source": [
    "# Salva el modelo en un directorio temporal\n",
    "import os, tempfile\n",
    "path = tempfile.mkdtemp()\n",
    "model.save(sc, path)\n",
    "\n",
    "# Vuelve a cargar el modelo\n",
    "sameModel = KMeansModel.load(sc, path)\n",
    "\n",
    "for i in range(4):\n",
    "    print(sameModel.predict(sparse_data[i]) == model.predict(sparse_data[i]))\n",
    "\n",
    "print(sameModel.predict(punto) == model.predict(punto))"
   ]
  },
  {
   "cell_type": "code",
   "execution_count": 5,
   "metadata": {
    "autoscroll": "auto"
   },
   "outputs": [],
   "source": [
    "# Borra el directorio temporal\n",
    "from shutil import rmtree\n",
    "try:\n",
    "     rmtree(path)\n",
    "except OSError:\n",
    "     pass"
   ]
  },
  {
   "cell_type": "code",
   "execution_count": 6,
   "metadata": {
    "autoscroll": "auto"
   },
   "outputs": [],
   "source": []
  }
 ],
 "metadata": {
  "kernelspec": {
   "display_name": "Spark 2.0.0",
   "language": "python",
   "name": "spark2"
  },
  "language_info": {
   "codemirror_mode": "text/python",
   "file_extension": ".py",
   "mimetype": "text/python",
   "name": "scala",
   "pygments_lexer": "python",
   "version": "3.6"
  }
 },
 "nbformat": 4,
 "nbformat_minor": 2
}
