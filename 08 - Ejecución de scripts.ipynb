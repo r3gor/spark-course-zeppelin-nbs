{
 "cells": [
  {
   "cell_type": "markdown",
   "metadata": {},
   "source": [
    " \n",
    "### Ejecución de un programa Spark\n",
    "\n",
    "#### Comando `spark-submit`\n",
    "\n",
    "-   Permite lanzar programas Spark a un cluster\n",
    "\n",
    "-   Ejemplo:\n",
    "```sh\n",
    "$ bin/spark-submit --master yarn --deploy-mode cluster \\  \n",
    "     --py-files otralib.zip,otrofich.py \\  \n",
    "     --num-executors 10 --executor-cores 2 \\  \n",
    "     mi-script.py opciones_del_script\n",
    "```\n",
    "\n",
    "#### Opciones de `spark-submit`\n",
    "\n",
    "-   `master`: cluster manager a usar (opciones: `yarn`, `mesos://host:port`, `spark://host:port`, `local[n]`)\n",
    "\n",
    "-   `deploy-mode`: dos modos de despliegue\n",
    "\n",
    "    -   `client`: ejecuta el driver en el nodo local\n",
    "\n",
    "    -   `cluster`: ejecuta el driver en un nodo del cluster\n",
    "\n",
    "-   `class`: clase a ejecutar (Java o Scala)\n",
    "\n",
    "-   `name`: nombre de la aplicación (se muestra en el Spark web)\n",
    "\n",
    "-   `jars`: ficheros jar a añadir al classpath (Java o Scala)\n",
    "\n",
    "-   `py-files`: archivos a añadir al PYTHONPATH (`.py`,`.zip`,`.egg`)\n",
    "\n",
    "-   `files`: ficheros de datos para la aplicación\n",
    "\n",
    "-   `executor-memory`: memoria total de cada ejecutor\n",
    "\n",
    "-   `driver-memory`: memoria del proceso driver\n",
    "\n",
    "Para más opciones: `spark-submit --help`"
   ]
  },
  {
   "cell_type": "raw",
   "metadata": {
    "format": "text/plain"
   },
   "source": [
    "%sh\n",
    "/opt/spark/bin/spark-submit --help"
   ]
  },
  {
   "cell_type": "markdown",
   "metadata": {},
   "source": [
    "<hr />\n",
    "![Modo cliente](http://localhost:8085/figs/client-mode.jpeg \"Modo cliente en YARN\")\n",
    "\n",
    "![Modo cluster](http://localhost:8085/figs/cluster-mode.jpeg \"Modo cluster en YARN\")\n",
    "\n",
    "Fuente: [Spark-on-YARN: Empower Spark Applications on Hadoop Cluster](https://www.slideshare.net/Hadoop_Summit/sparkonyarn-empower-spark-applications-on-hadoop-cluster)\n",
    "<hr />"
   ]
  },
  {
   "cell_type": "markdown",
   "metadata": {},
   "source": [
    "### Parámetros de configuración\n",
    "\n",
    "Diversos parámetros ajustables en tiempo de ejecución\n",
    "\n",
    "-   En el script\n",
    "```python\n",
    "from pyspark import SparkConf,SparkContext\n",
    "conf = SparkConf()\n",
    "conf.set(\"spark.app.name\", \"Mi apli\")\n",
    "conf.set(\"spark.master\", \"local[2]\") # Cluster manager modo local con 2 hilos\n",
    "conf.set(\"spark.ui.port\", \"3600\")    # Puerto del interfaz web de Spark (por defecto: 4040)\n",
    "sc = SparkContext(conf=conf)\n",
    "```\n",
    "\n",
    "-   Mediante flags en el `spark-submit`\n",
    "```sh\n",
    "$ bin/spark-submit --master local[2] --name \"Mi apli\" \\  \n",
    "    --conf spark.ui.port=3600 mi-script.py\n",
    "```    \n",
    "    \n",
    "-   Mediante un fichero de propiedades\n",
    "```sh\n",
    "$ cat config.conf\n",
    "spark.master     local[2] \n",
    "spark.app.name   \"Mi apli\" \n",
    "spark.ui.port 3600\n",
    "$ bin/spark-submit --properties-file config.conf mi-script.py\n",
    "```\n",
    "\n",
    "Más info: <http://spark.apache.org/docs/latest/configuration.html#spark-properties>\n"
   ]
  },
  {
   "cell_type": "markdown",
   "metadata": {},
   "source": [
    "### Ejemplo de ejecución de un script Python"
   ]
  },
  {
   "cell_type": "raw",
   "metadata": {
    "format": "text/plain"
   },
   "source": [
    "%sh\n",
    "# No modificar la siguiente linea\n",
    "cat << EOF > /tmp/miscript.py\n",
    "from pyspark import SparkConf, SparkContext\n",
    "from operator import add\n",
    "\n",
    "def main():\n",
    "    conf = SparkConf()\n",
    "    conf.set(\"spark.app.name\", \"Mi script Python\")\n",
    "\n",
    "    # Iniciamos el SparkContext\n",
    "    sc = SparkContext(conf=conf)\n",
    "    sc.setLogLevel(\"FATAL\")\n",
    "\n",
    "    rdd = sc.parallelize(range(100000)).cache()\n",
    "    \n",
    "    rdd2 = rdd.map(lambda x: (x, 2*x))\\\n",
    "              .map(lambda (x,y): (x-100, y**2))\\\n",
    "              .reduceByKey(lambda x,y: x+y)\\\n",
    "              .values()\n",
    "               \n",
    "    r = rdd2.reduce(add)\n",
    "    \n",
    "    print(\"Resultado final = {0}\".format(r))\n",
    "    \n",
    "    # Finalizamos el SparkContext\n",
    "    sc.stop()\n",
    "if __name__ == \"__main__\":\n",
    "    main()\n",
    "EOF"
   ]
  },
  {
   "cell_type": "raw",
   "metadata": {
    "format": "text/plain"
   },
   "source": [
    "%sh\n",
    "/opt/spark/bin/spark-submit --master local[8] /tmp/miscript.py"
   ]
  },
  {
   "cell_type": "raw",
   "metadata": {
    "format": "text/plain"
   },
   "source": [
    "%sh\n"
   ]
  }
 ],
 "metadata": {
  "kernelspec": {
   "display_name": "Spark 2.0.0",
   "language": "python",
   "name": "spark2"
  },
  "language_info": {
   "codemirror_mode": "text/python",
   "file_extension": ".py",
   "mimetype": "text/python",
   "name": "scala",
   "pygments_lexer": "python",
   "version": "3.6"
  }
 },
 "nbformat": 4,
 "nbformat_minor": 2
}
