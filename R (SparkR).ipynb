{
 "cells": [
  {
   "cell_type": "raw",
   "metadata": {
    "format": "text/plain"
   },
   "source": [
    "%r\n",
    "foo <- TRUE\n",
    "print(foo)\n",
    "bare <- c(1, 2.5, 4)\n",
    "print(bare)\n",
    "double <- 15.0\n",
    "print(double)"
   ]
  },
  {
   "cell_type": "raw",
   "metadata": {
    "format": "text/plain"
   },
   "source": [
    "%r\n",
    "library(data.table)\n",
    "dt <- data.table(1:3)\n",
    "print(dt)\n",
    "for (i in 1:5) {\n",
    "  print(i*2)\n",
    "}\n",
    "print(1:50)"
   ]
  },
  {
   "cell_type": "markdown",
   "metadata": {},
   "source": [
    "## Zeppelin SparkR Tutorial\n",
    "\n",
    "##### This is a live tutorial, you can run the code yourself. (Shift-Enter to Run)"
   ]
  },
  {
   "cell_type": "raw",
   "metadata": {
    "format": "text/plain"
   },
   "source": [
    "%r\n",
    "colnames(iris)\n",
    "iris$Petal.Length\n",
    "iris$Sepal.Length"
   ]
  },
  {
   "cell_type": "raw",
   "metadata": {
    "format": "text/plain"
   },
   "source": [
    "%r print(\"%table name\\tsize\\nsmall\\t100\\nlarge\\t1000\")"
   ]
  },
  {
   "cell_type": "raw",
   "metadata": {
    "format": "text/plain"
   },
   "source": [
    "%r \n",
    "\n",
    "print(\"%html <h3>Hello HTML</h3>\")\n",
    "print(\"<font color='blue'><span class='fa fa-bars'> Easy...</font></span>\")\n",
    "for (i in 1:10) {\n",
    "  print(paste0(\"<h4>\", i, \" * 2 = \", i*2, \"</h4>\"))\n",
    "}"
   ]
  },
  {
   "cell_type": "code",
   "execution_count": 6,
   "metadata": {
    "autoscroll": "auto"
   },
   "outputs": [],
   "source": [
    "val s = \"Hello R from Scala\"\n",
    "z.put(\"s\", s)\n",
    "val b = new Integer(42)\n",
    "z.put(\"b\", b)\n",
    "val a: Array[Double] = Array[Double](30.1, 20.0)\n",
    "z.put(\"a\", a)\n",
    "val m = Array(Array(1, 4), Array(8, 16))\n",
    "z.put(\"m\", m)\n",
    "val v = Vector(1, 2, 3, 4)\n",
    "z.put(\"v\", v)"
   ]
  },
  {
   "cell_type": "raw",
   "metadata": {
    "format": "text/plain"
   },
   "source": [
    "%r\n",
    "z.get(\"s\")\n",
    "z.get(\"b\")\n",
    "print(unlist(z.get(\"a\")))\n",
    "print(unlist(z.get(\"m\")))\n",
    "z.get(\"v\")"
   ]
  },
  {
   "cell_type": "raw",
   "metadata": {
    "format": "text/plain"
   },
   "source": [
    "%r\n",
    "s <- \"Hello Scala from R\"\n",
    "print(s)\n",
    "z.put(\"rs\", s)\n",
    "b <- TRUE\n",
    "print(b)\n",
    "z.put(\"rb\", b)\n",
    "d <- 15.0\n",
    "print(d)\n",
    "z.put(\"rd\", d)\n",
    "m <- c(2.4, 2.5, 4)\n",
    "print(m)\n",
    "z.put(\"rm\", m)"
   ]
  },
  {
   "cell_type": "code",
   "execution_count": 9,
   "metadata": {
    "autoscroll": "auto"
   },
   "outputs": [],
   "source": [
    "println(\"rs = \"+ z.get(\"rs\"))\n",
    "println(\"rb = \"+ z.get(\"rb\"))\n",
    "println(\"rd = \"+ z.get(\"rd\"))\n",
    "println(\"rm = \"+ z.get(\"rm\"))\n",
    "// println(z.get(\"rm\").getClass)\n",
    "// println(\"rm = \"+ z.get(\"rm\").asInstanceOf[Array[Double]].toSeq)"
   ]
  },
  {
   "cell_type": "code",
   "execution_count": 10,
   "metadata": {
    "autoscroll": "auto"
   },
   "outputs": [],
   "source": [
    "import org.apache.commons.io.IOUtils\n",
    "import java.net.URL\n",
    "import java.nio.charset.Charset\n",
    "\n",
    "val bankText = sc.parallelize(\n",
    "    IOUtils.toString(\n",
    "        new URL(\"https://s3.amazonaws.com/apache-zeppelin/tutorial/bank/bank.csv\"),\n",
    "        Charset.forName(\"utf8\")).split(\"\\n\"))\n",
    "\n",
    "case class Bank(age: Integer, job: String, marital: String, education: String, balance: Integer)\n",
    "\n",
    "val bank = bankText.map(s => s.split(\";\")).filter(s => s(0) != \"\\\"age\\\"\").map(\n",
    "    s => Bank(s(0).toInt, \n",
    "            s(1).replaceAll(\"\\\"\", \"\"),\n",
    "            s(2).replaceAll(\"\\\"\", \"\"),\n",
    "            s(3).replaceAll(\"\\\"\", \"\"),\n",
    "            s(5).replaceAll(\"\\\"\", \"\").toInt\n",
    "        )\n",
    ").toDF()\n",
    "bank.registerTempTable(\"bank\")"
   ]
  },
  {
   "cell_type": "raw",
   "metadata": {
    "format": "text/plain"
   },
   "source": [
    "%r\n",
    "\n",
    "df <- sql(sqlContext, \"select count(*) from bank\")\n",
    "printSchema(df)\n",
    "SparkR::head(df)"
   ]
  },
  {
   "cell_type": "code",
   "execution_count": 12,
   "metadata": {},
   "outputs": [],
   "source": [
    "%%sql select count(*) as count from bank"
   ]
  },
  {
   "cell_type": "raw",
   "metadata": {
    "format": "text/plain"
   },
   "source": [
    "%r \n",
    "\n",
    "localNames <- data.frame(name=c(\"John\", \"Smith\", \"Sarah\"), budget=c(19, 53, 18))kjkjkj\n",
    "names <- createDataFrame(sqlContext, localNames)\n",
    "printSchema(names)\n",
    "registerTempTable(names, \"names\")\n",
    "\n",
    "# SparkR::head(names)"
   ]
  },
  {
   "cell_type": "code",
   "execution_count": 14,
   "metadata": {
    "autoscroll": "auto"
   },
   "outputs": [],
   "source": [
    "sqlc.sql(\"select * from names\").head"
   ]
  },
  {
   "cell_type": "code",
   "execution_count": 15,
   "metadata": {},
   "outputs": [],
   "source": [
    "%%sql select * from names\n"
   ]
  },
  {
   "cell_type": "raw",
   "metadata": {
    "format": "text/plain"
   },
   "source": [
    "%r\n",
    "library(googleVis)\n",
    "df=data.frame(country=c(\"US\", \"GB\", \"BR\"), \n",
    "              val1=c(10,13,14), \n",
    "              val2=c(23,12,32))\n",
    "Bar <- gvisBarChart(df)\n",
    "print(Bar, tag = 'chart')\n"
   ]
  },
  {
   "cell_type": "raw",
   "metadata": {
    "format": "text/plain"
   },
   "source": [
    "%r\n",
    "library(googleVis)\n",
    "\n",
    "Candle <- gvisCandlestickChart(OpenClose, \n",
    "                               options=list(legend='none'))\n",
    "\n",
    "print(Candle, tag = 'chart')"
   ]
  },
  {
   "cell_type": "raw",
   "metadata": {
    "format": "text/plain"
   },
   "source": [
    "%r\n",
    "library(googleVis)\n",
    "df=data.frame(country=c(\"US\", \"GB\", \"BR\"), \n",
    "              val1=c(10,13,14), \n",
    "              val2=c(23,12,32))\n",
    "\n",
    "Line <- gvisLineChart(df)\n",
    "\n",
    "print(Line, tag = 'chart')\n"
   ]
  },
  {
   "cell_type": "raw",
   "metadata": {
    "format": "text/plain"
   },
   "source": [
    "%r pairs(iris)"
   ]
  },
  {
   "cell_type": "raw",
   "metadata": {
    "format": "text/plain"
   },
   "source": [
    "%r \n",
    "plot(iris, col = heat.colors(3))"
   ]
  },
  {
   "cell_type": "raw",
   "metadata": {
    "format": "text/plain"
   },
   "source": [
    "%r\n",
    "library(ggplot2)\n",
    "pres_rating <- data.frame(\n",
    "  rating = as.numeric(presidents),\n",
    "  year = as.numeric(floor(time(presidents))),\n",
    "  quarter = as.numeric(cycle(presidents))\n",
    ")\n",
    "p <- ggplot(pres_rating, aes(x=year, y=quarter, fill=rating))\n",
    "p + geom_raster()"
   ]
  },
  {
   "cell_type": "raw",
   "metadata": {
    "format": "text/plain"
   },
   "source": [
    "%r\n",
    "library(googleVis)\n",
    "bubble <- gvisBubbleChart(Fruits, idvar=\"Fruit\", \n",
    "                          xvar=\"Sales\", yvar=\"Expenses\",\n",
    "                          colorvar=\"Year\", sizevar=\"Profit\",\n",
    "                          options=list(\n",
    "                            hAxis='{minValue:75, maxValue:125}'))\n",
    "print(bubble, tag = 'chart')"
   ]
  },
  {
   "cell_type": "raw",
   "metadata": {
    "format": "text/plain"
   },
   "source": [
    "%r\n",
    "library(googleVis)\n",
    "geo = gvisGeoChart(Exports, locationvar = \"Country\", colorvar=\"Profit\", options=list(Projection = \"kavrayskiy-vii\"))\n",
    "print(geo, tag = 'chart')"
   ]
  },
  {
   "cell_type": "markdown",
   "metadata": {},
   "source": [
    "## Congratulations, it's done.\n",
    "### You can create your own notebook in 'Notebook' menu. Good luck!"
   ]
  },
  {
   "cell_type": "markdown",
   "metadata": {},
   "source": []
  }
 ],
 "metadata": {
  "kernelspec": {
   "display_name": "Spark 2.0.0",
   "language": "python",
   "name": "spark2"
  },
  "language_info": {
   "codemirror_mode": "text/python",
   "file_extension": ".py",
   "mimetype": "text/python",
   "name": "scala",
   "pygments_lexer": "python",
   "version": "3.6"
  }
 },
 "nbformat": 4,
 "nbformat_minor": 2
}
