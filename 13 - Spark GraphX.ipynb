{
 "cells": [
  {
   "cell_type": "markdown",
   "metadata": {},
   "source": [
    "## GraphX: procesamiento de grafos\n",
    "\n",
    "Programación paralela de grafos con Spark\n",
    "\n",
    "-   Principal abstracción: [*Graph*](http://spark.apache.org/docs/latest/api/scala/index.html#org.apache.spark.graphx.Graph)\n",
    "    -   Multigrafo dirigido con propiedades asignadas a vértices y aristas\n",
    "    -   Extensión de los RDDs\n",
    "- Incluye constructores de grafos, operadores básicos ( *reverse*, *subgraph*…) y algoritmos de grafos ( *PageRank*, *Triangle Counting*…)\n",
    "- Actualmente, no disponible en PySpark (solo Scala)\n",
    "\n",
    "Documentación: [spark.apache.org/docs/latest/graphx-programming-guide.html](http://spark.apache.org/docs/latest/graphx-programming-guide.html)"
   ]
  },
  {
   "cell_type": "markdown",
   "metadata": {},
   "source": [
    "### Grafos en GraphX\n",
    "<img src=\"http://localhost:8085/figs/grapxgraph.png\" alt=\"Grafo en GraphX\" style=\"width: 600px;\"/>\n",
    "(Fuente: M.S. Malak, R. East \"Spark GraphX in action\", Manning, 2016)"
   ]
  },
  {
   "cell_type": "markdown",
   "metadata": {},
   "source": [
    "Ejemplo de grafo sencillo\n",
    "<img src=\"http://localhost:8085/figs/simpsonsgraph.png\" alt=\"Grafo de los Simpson\" style=\"width: 600px;\"/>\n",
    "(Fuente: P. Zecević, M. Bonaći \"Spark in action\", Manning, 2017)"
   ]
  },
  {
   "cell_type": "code",
   "execution_count": 3,
   "metadata": {
    "autoscroll": "auto"
   },
   "outputs": [],
   "source": [
    "import org.apache.spark.graphx._\n",
    "case class Person(name:String, age:Int)\n",
    "val vertices = sc.parallelize(Array((1L, Person(\"Homer\", 39)),\n",
    "                                    (2L, Person(\"Marge\", 39)),\n",
    "                                    (3L, Person(\"Bart\", 12)),\n",
    "                                    (4L, Person(\"Milhouse\", 12))))\n",
    "                                    \n",
    "val aristas = sc.parallelize(Array(Edge(4L, 3L, \"amigo\"),\n",
    "                                 Edge(3L, 1L, \"padre\"),\n",
    "                                 Edge(3L, 2L, \"madre\"),\n",
    "                                 Edge(1L, 2L, \"casadoCon\")))\n",
    "                                 \n",
    "val graph = Graph(vertices, aristas)\n",
    "\n",
    "graph.vertices.count()\n",
    "graph.edges.count()"
   ]
  },
  {
   "cell_type": "code",
   "execution_count": 4,
   "metadata": {
    "autoscroll": "auto"
   },
   "outputs": [],
   "source": [
    "val rdd = sc.textFile(\"../datos/cite75_99.txt\")\n",
    "            .filter(l => !l.startsWith(\"\\\"CITING\\\"\"))\n",
    "            .map(l => {\n",
    "                val spl = l.split(\",\");\n",
    "                (spl(0).toLong, spl(1).toLong)})\n",
    "println(rdd.count())\n",
    "\n",
    "val filtered = rdd.filter(p => p._1 >= 3000000 && p._1 < 4000000)\n",
    "println(filtered.count()) "
   ]
  },
  {
   "cell_type": "code",
   "execution_count": 5,
   "metadata": {
    "autoscroll": "auto"
   },
   "outputs": [],
   "source": [
    "val citeGraph = Graph.fromEdgeTuples(filtered, 0)\n",
    "\n",
    "println(\"Número de vértices = \"+citeGraph.numVertices)\n",
    "println(\"Número de aristas = \"+citeGraph.numEdges)"
   ]
  },
  {
   "cell_type": "code",
   "execution_count": 6,
   "metadata": {
    "autoscroll": "auto"
   },
   "outputs": [],
   "source": [
    "val rank = citeGraph.pageRank(0.1)\n",
    "\n",
    "val orden = new Ordering[Tuple2[VertexId, Double]] {\n",
    "    def compare(x:Tuple2[VertexId, Double], y:Tuple2[VertexId, Double]):Int =\n",
    "                x._2.compareTo(y._2)\n",
    "}\n",
    "\n",
    "val top10 = rank.vertices.top(10)(orden)\n",
    "\n",
    "println(\"Patente con mayor rank = \"+top10(0)._1+\" (rango = \"+top10(0)._2+\")\")"
   ]
  },
  {
   "cell_type": "code",
   "execution_count": 7,
   "metadata": {
    "autoscroll": "auto"
   },
   "outputs": [],
   "source": []
  }
 ],
 "metadata": {
  "kernelspec": {
   "display_name": "Spark 2.0.0",
   "language": "python",
   "name": "spark2"
  },
  "language_info": {
   "codemirror_mode": "text/python",
   "file_extension": ".py",
   "mimetype": "text/python",
   "name": "scala",
   "pygments_lexer": "python",
   "version": "3.6"
  }
 },
 "nbformat": 4,
 "nbformat_minor": 2
}
